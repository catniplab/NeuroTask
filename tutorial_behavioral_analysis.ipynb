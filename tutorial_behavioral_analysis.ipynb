{
 "cells": [
  {
   "cell_type": "code",
   "execution_count": null,
   "metadata": {
    "jupyter": {
     "is_executing": true
    },
    "tags": []
   },
   "outputs": [],
   "source": [
    "import numpy as np\n",
    "import pandas as pd\n",
    "\n",
    "from tqdm import tqdm \n",
    "from typing import List\n",
    "from pathlib import Path\n",
    "\n",
    "import matplotlib.pyplot as plt\n",
    "from matplotlib import cm\n",
    "\n",
    "import torch\n",
    "\n",
    "from api_neurotask import *\n",
    "from utils import *\n",
    "\n",
    "import warnings\n",
    "warnings.filterwarnings(\"ignore\")"
   ]
  },
  {
   "cell_type": "markdown",
   "metadata": {},
   "source": [
    "### Load and Filter a specific Dataset\n",
    "\n",
    "Before diving into the analysis, it's essential to load the dataset and preprocess it. In this step, we'll filter out non-reward trials to focus our analysis on the relevant data.\\\n",
    "Remove trials with outcomes: Aborted (A), Incomplete (I), Failed (F)\\\n",
    "Also, return the bin size of the dataset in ms\\"
   ]
  },
  {
   "cell_type": "code",
   "execution_count": null,
   "metadata": {
    "tags": []
   },
   "outputs": [],
   "source": [
    "dataset, bin_size = load_and_filter_parquet('./data/6_1_Churchland3_Maze.parquet', ['A', 'I','F'])\n",
    "groups = dataset.groupby(['session', 'animal'])\n",
    "dataset"
   ]
  },
  {
   "cell_type": "code",
   "execution_count": null,
   "metadata": {
    "ExecuteTime": {
     "end_time": "2024-11-18T22:05:16.725225Z",
     "start_time": "2024-11-18T22:05:16.722227Z"
    },
    "tags": []
   },
   "outputs": [],
   "source": [
    "for column in dataset.columns:\n",
    "    if \"Neuron\" not in column:\n",
    "        print(column)"
   ]
  },
  {
   "cell_type": "code",
   "execution_count": null,
   "metadata": {
    "ExecuteTime": {
     "end_time": "2024-11-18T22:05:17.964174Z",
     "start_time": "2024-11-18T22:05:17.752374Z"
    },
    "tags": []
   },
   "outputs": [],
   "source": [
    "dataset.groupby(['session', 'animal'])['trial_id'].nunique().reset_index(name='unique_trials_per_group')"
   ]
  },
  {
   "cell_type": "code",
   "execution_count": null,
   "metadata": {
    "ExecuteTime": {
     "end_time": "2024-11-18T22:05:18.673775Z",
     "start_time": "2024-11-18T22:05:18.231193Z"
    },
    "tags": []
   },
   "outputs": [],
   "source": [
    "dataset.groupby(['session', 'animal', 'result'])['trial_id'].nunique().reset_index(name='n_trial')"
   ]
  },
  {
   "cell_type": "code",
   "execution_count": null,
   "metadata": {
    "tags": []
   },
   "outputs": [],
   "source": [
    "dataset.groupby(['session', 'animal', 'correct_reach'])['trial_id'].nunique().reset_index(name='n_trial')"
   ]
  },
  {
   "cell_type": "code",
   "execution_count": null,
   "metadata": {
    "ExecuteTime": {
     "end_time": "2024-11-18T22:05:19.706868Z",
     "start_time": "2024-11-18T22:05:19.436258Z"
    },
    "tags": []
   },
   "outputs": [],
   "source": [
    "dataset.groupby(['session', 'animal', 'maze_conditions'])['trial_id'].nunique().reset_index(name='n_trial_per_condition')"
   ]
  },
  {
   "cell_type": "code",
   "execution_count": null,
   "metadata": {
    "tags": []
   },
   "outputs": [],
   "source": [
    "n_trials = dataset.groupby(['session', 'animal', 'trial_id']).ngroups\n",
    "n_trials"
   ]
  },
  {
   "cell_type": "code",
   "execution_count": null,
   "metadata": {
    "ExecuteTime": {
     "end_time": "2024-11-18T22:05:25.749407Z",
     "start_time": "2024-11-18T22:05:25.746538Z"
    },
    "tags": []
   },
   "outputs": [],
   "source": [
    "n_neurons = len([col for col in dataset.columns if col.startswith('Neuron')])\n",
    "n_neurons"
   ]
  },
  {
   "cell_type": "code",
   "execution_count": null,
   "metadata": {
    "tags": []
   },
   "outputs": [],
   "source": [
    "plot_rastor(dataset, session_id=3, animal_id=1, trial_id=66, behavior_to_plot='hand_vel')"
   ]
  },
  {
   "cell_type": "markdown",
   "metadata": {},
   "source": [
    "### 2. Rebin Data for Analysis"
   ]
  },
  {
   "cell_type": "markdown",
   "metadata": {},
   "source": [
    "The `rebin` function is designed to rebin a dataset by aggregating data points into larger bins based on a specified bin size. Here's a brief overview of how to use it:\n",
    "\n",
    "The `rebin` function takes the following parameters:\n",
    "- `dataset1`: The DataFrame containing the data to be rebinned.\n",
    "- `prev_bin_size`: The original bin size of the data.\n",
    "- `new_bin_size`: The desired bin size to aggregate data points into. This is the new bin size you want the data to be rebinned to.\n",
    "- `reset` (optional): A boolean indicating whether to reset the index of the resulting DataFrame.\n",
    "\n",
    "When called, the function aggregates data points within each bin based on the specified aggregation functions.\\\n",
    "The aggregation functions are determined based on the column names of the input DataFrame. For spiking data, the function aggregates by summing the values. For columns related to behavior, the function applies a custom decimation function to downsample the data. "
   ]
  },
  {
   "cell_type": "code",
   "execution_count": null,
   "metadata": {
    "ExecuteTime": {
     "end_time": "2024-11-18T22:06:59.970939Z",
     "start_time": "2024-11-18T22:05:31.443325Z"
    },
    "tags": []
   },
   "outputs": [],
   "source": [
    "# Rebin the dataset with a new bin size (in ms).\n",
    "binsize = 20\n",
    "dataset = rebin(dataset, prev_bin_size=bin_size, new_bin_size=binsize)\n",
    "dataset"
   ]
  },
  {
   "cell_type": "code",
   "execution_count": null,
   "metadata": {
    "tags": []
   },
   "outputs": [],
   "source": [
    "plot_rastor(dataset, session_id=3, animal_id=1, trial_id=666, behavior_to_plot='hand_vel')"
   ]
  },
  {
   "cell_type": "markdown",
   "metadata": {},
   "source": [
    "### 3. Align to specific event"
   ]
  },
  {
   "cell_type": "markdown",
   "metadata": {},
   "source": [
    "Before using the `align_event` function, it's essential to understand its purpose and how it operates. This function is designed to align events within a DataFrame based on a specified start event marker. Here's a brief overview of how to use it:\n",
    "\n",
    "The `align_event` function takes the following parameters:\n",
    "- `df`: The DataFrame containing the data.\n",
    "- `bin_size`: the bin size of the data in ms.\n",
    "- `start_event`: The event marker indicating the start of a trial or session.\n",
    "- `offset_min` (optional): The minimum offset (in ms) to consider before the start_event.\n",
    "- `offset_max` (optional): The maximum offset (in ms) to consider after the start_event.\n",
    "\n",
    "\n",
    "Please note that for Dataset 1, it's not possible to align events since it doesn't contain event information.\\\n",
    "Also note, after the alignment some trials (those are on the two ends of each (session, animal) group) will be trimmed, so we would want to get rid of those."
   ]
  },
  {
   "cell_type": "code",
   "execution_count": null,
   "metadata": {
    "tags": []
   },
   "outputs": [],
   "source": [
    "event_cols = [col for col in dataset.columns if col.startswith('Event')]\n",
    "event_cols"
   ]
  },
  {
   "cell_type": "code",
   "execution_count": null,
   "metadata": {
    "tags": []
   },
   "outputs": [],
   "source": [
    "event_bins = get_event_bins(dataset, session_id=3, animal_id=1)\n",
    "event_bins"
   ]
  },
  {
   "cell_type": "code",
   "execution_count": null,
   "metadata": {
    "tags": []
   },
   "outputs": [],
   "source": [
    "trials_len = [len(trial[1]) for trial in dataset.groupby(['session', 'animal', 'trial_id'])]\n",
    "\n",
    "plt.hist(trials_len, bins=40, edgecolor='gray', alpha=0.7)\n",
    "plt.xlabel(\"trial length (bins)\")\n",
    "plt.ylabel(\"num of trials\")\n",
    "plt.show()"
   ]
  },
  {
   "cell_type": "code",
   "execution_count": null,
   "metadata": {
    "tags": []
   },
   "outputs": [],
   "source": [
    "plot_event_bins_dist(event_bins)"
   ]
  },
  {
   "cell_type": "code",
   "execution_count": null,
   "metadata": {
    "tags": []
   },
   "outputs": [],
   "source": [
    "align_at = 'EventMovement_start' # The event to align the trials around (the column name)\n",
    "offset_min = -400 #ms\n",
    "offset_max = 580 #ms\n",
    "\n",
    "events = event_bins[align_at].values\n",
    "\n",
    "bins_before = -offset_min // binsize\n",
    "bins_after = offset_max // binsize\n",
    "event_bin = bins_before\n",
    "\n",
    "trial_length = (-offset_min) + offset_max + 1 * binsize # Total trial length, ms, (including the bin we are aligning around)\n",
    "n_bins = trial_length // binsize\n",
    "\n",
    "dataset_aligned = align_event(dataset, align_at, bin_size=20, offset_min=offset_min, offset_max=offset_max)\n",
    "print(f'length of aligned trials = {n_bins} bins x {binsize} ms = {trial_length} ms\\n')"
   ]
  },
  {
   "cell_type": "code",
   "execution_count": null,
   "metadata": {
    "tags": []
   },
   "outputs": [],
   "source": [
    "\"\"\"\n",
    "Make sure all trials are the same length after aligment.\n",
    "\"\"\"\n",
    "len_counts = get_trials_len_count(dataset_aligned, session_id=3, animal_id=1)\n",
    "len_counts"
   ]
  },
  {
   "cell_type": "markdown",
   "metadata": {},
   "source": [
    "## Behavioral Analysis"
   ]
  },
  {
   "cell_type": "code",
   "execution_count": null,
   "metadata": {
    "tags": []
   },
   "outputs": [],
   "source": [
    "trial_idx = dataset['trial_id'].drop_duplicates().values\n",
    "\n",
    "cor_trials = dataset[dataset['correct_reach']]\n",
    "inc_trials = dataset[~dataset['correct_reach']]\n",
    "\n",
    "cor_trials_idx = cor_trials['trial_id'].drop_duplicates().values\n",
    "inc_trials_idx = cor_trials['trial_id'].drop_duplicates().values"
   ]
  },
  {
   "cell_type": "code",
   "execution_count": null,
   "metadata": {
    "tags": []
   },
   "outputs": [],
   "source": [
    "spikes = get_spikes(dataset_aligned, session_id=3, animal_id=1)\n",
    "spikes = torch.tensor(spikes)\n",
    "spikes.shape"
   ]
  },
  {
   "cell_type": "code",
   "execution_count": null,
   "metadata": {
    "tags": []
   },
   "outputs": [],
   "source": [
    "hand_vel = get_reaches(dataset_aligned, session_id=3, animal_id=1, behavior='hand_vel')\n",
    "hand_pos = get_reaches(dataset_aligned, session_id=3, animal_id=1, behavior='hand_pos')\n",
    "\n",
    "hand_vel = torch.tensor(hand_vel)\n",
    "hand_pos = torch.tensor(hand_pos)\n",
    "\n",
    "print(hand_vel.shape)\n",
    "print(hand_pos.shape)"
   ]
  },
  {
   "cell_type": "code",
   "execution_count": null,
   "metadata": {
    "tags": []
   },
   "outputs": [],
   "source": [
    "reach_conds = get_maze_conditions(dataset, session_id=3, animal_id=1)\n",
    "reach_conds = torch.tensor(reach_conds)\n",
    "\n",
    "reach_conds.shape"
   ]
  },
  {
   "cell_type": "code",
   "execution_count": null,
   "metadata": {
    "tags": []
   },
   "outputs": [],
   "source": [
    "avg_reaches, conds_std = get_conds_average_reach(hand_vel, reach_conds)\n",
    "avg_reaches.shape"
   ]
  },
  {
   "cell_type": "code",
   "execution_count": null,
   "metadata": {
    "tags": []
   },
   "outputs": [],
   "source": [
    "active_target_pos = torch.tensor(dataset.drop_duplicates(subset='trial_id')[['target_pos_x', 'target_pos_y']].values)#[succ_trials_idx]\n",
    "active_target_pos.shape"
   ]
  },
  {
   "cell_type": "code",
   "execution_count": null,
   "metadata": {
    "tags": []
   },
   "outputs": [],
   "source": [
    "conds_target_pos = get_conds_target_pos(reach_conds, active_target_pos)\n",
    "conds_target_pos.shape"
   ]
  },
  {
   "cell_type": "code",
   "execution_count": null,
   "metadata": {
    "tags": []
   },
   "outputs": [],
   "source": [
    "plot_unique_target_pos(dataset)"
   ]
  },
  {
   "cell_type": "code",
   "execution_count": null,
   "metadata": {
    "tags": []
   },
   "outputs": [],
   "source": [
    "plot_cond_avg_reaches(hand_vel, reach_conds)"
   ]
  },
  {
   "cell_type": "code",
   "execution_count": null,
   "metadata": {
    "tags": []
   },
   "outputs": [],
   "source": [
    "plot_single_reaches(hand_vel, active_target_pos, n_trials_to_plot=80)"
   ]
  },
  {
   "cell_type": "code",
   "execution_count": null,
   "metadata": {
    "tags": []
   },
   "outputs": [],
   "source": [
    "cor_reaches, inc_reaches = get_correct_incorrect_reaches_in_cond(dataset_aligned, cond=51, bhv='hand_vel')\n",
    "\n",
    "print(cor_reaches.keys())\n",
    "print(len(cor_reaches['indcs']))\n",
    "print(len(inc_reaches['indcs']))"
   ]
  },
  {
   "cell_type": "code",
   "execution_count": null,
   "metadata": {
    "tags": []
   },
   "outputs": [],
   "source": [
    "plot_reaches_in_cond(dataset, avg_reaches, cond_to_plot=51, behavior_to_plot='hand_vel')"
   ]
  },
  {
   "cell_type": "code",
   "execution_count": null,
   "metadata": {
    "tags": []
   },
   "outputs": [],
   "source": [
    "plot_reaches_in_conds(dataset_aligned, hand_vel, binsize, reach_conds, bins_before, align_at='move\\nonset', n_conds_to_plot=5, behavior_to_plot='hand_vel')"
   ]
  },
  {
   "cell_type": "code",
   "execution_count": null,
   "metadata": {},
   "outputs": [],
   "source": []
  }
 ],
 "metadata": {
  "kernelspec": {
   "display_name": "opium",
   "language": "python",
   "name": "opium"
  },
  "language_info": {
   "codemirror_mode": {
    "name": "ipython",
    "version": 3
   },
   "file_extension": ".py",
   "mimetype": "text/x-python",
   "name": "python",
   "nbconvert_exporter": "python",
   "pygments_lexer": "ipython3",
   "version": "3.11.10"
  }
 },
 "nbformat": 4,
 "nbformat_minor": 4
}
